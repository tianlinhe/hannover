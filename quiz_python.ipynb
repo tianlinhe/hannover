{
 "cells": [
  {
   "cell_type": "markdown",
   "metadata": {},
   "source": [
    "# I (Q1-Q2) Use of Python"
   ]
  },
  {
   "cell_type": "markdown",
   "metadata": {},
   "source": [
    "**Q1. (10 Marks) During a literature review, Lili found $10$ urinary peptides related to diabetes type I (listed in `db1`) and $12$ urinary peptides related to diabetes type II (listed in `db2`).** \n",
    "\n",
    "Use your knowledge in programming, extract the peptides that were **only** related to diabetes type I **but not** to diabetes type II. (If possible, hold these peptides in a python `list` with the name `db1s`)"
   ]
  },
  {
   "cell_type": "code",
   "execution_count": null,
   "metadata": {},
   "outputs": [],
   "source": [
    "db1=['e00001','e00002','e00020','e00030','e00100','e00444','e01009','e09000','e10000','e100001']\n",
    "db2=['e00301','e00002','e00020','e00030','e00101','e00400','e01000','e09000','e10000','e100001','e20002','e30003']\n",
    "# Please enter your codes below:\n",
    "\n",
    "db1s=[]"
   ]
  },
  {
   "cell_type": "markdown",
   "metadata": {},
   "source": [
    "**Q2. (10 Marks) Lili called the peptides that you extracted in Q1 as \"diabetes I-specific peptides\", or in short, \"db1s peptides\". She learned that the name of the db1s peptides must be unified before entering in a SQL database, such that it is a 9-digit positive integer:**\n",
    "\n",
    "|old name|new name|\n",
    "|:------:|:------:|\n",
    "|e00001|99900001|\n",
    "|...|...|\n",
    "|e99999|99999999|\n",
    "\n",
    "Use your knowledge in programming, help Lili to convert the names of the db1s-peptides. (If possible, hold these peptides in a python `list` with the name `db1s`)"
   ]
  },
  {
   "cell_type": "code",
   "execution_count": null,
   "metadata": {},
   "outputs": [],
   "source": [
    "# Please enter your codes below:\n",
    "db1s=[]"
   ]
  },
  {
   "cell_type": "markdown",
   "metadata": {},
   "source": [
    "# II (Q3-Q5) Biostatistics"
   ]
  },
  {
   "cell_type": "markdown",
   "metadata": {},
   "source": [
    "**Q3. (10 Marks) Lili received 100 urine samples from a local hospital. For each db1s peptide, Lili measured its abundance in four *randomly-selected samples* from the 100 samples, and calculated the *mean* of the four measurements. However, her supervisor thought that her analysis in 4 samples was not so informative and adviced her to measure the abundances of the same peptides in all 100 samples. Assume that for the 4-sample analysis, the mean abundance of peptide A was $100\\pm 20$ (unitless), where 20 was the standard deviation.**\n",
    "\n",
    "1. (5 Marks) Can you estimate the mean abundance of peptide A in the 100-sample analysis? Will it be smaller or larger than 100?\n",
    "2. (5 Marks) Can you estimate the standard deviation of peptide A abudance in the 100-sample analysis? Will it be smaller or larger than 20?"
   ]
  },
  {
   "cell_type": "code",
   "execution_count": null,
   "metadata": {},
   "outputs": [],
   "source": [
    "# please enter your answer below:"
   ]
  },
  {
   "cell_type": "markdown",
   "metadata": {},
   "source": [
    "**Q4. (10 Marks) Lili just received the age the 100 patients and plotted its probability density function (Run the below trunk to see it). What can you say about the distribution of age? It is likely a:**\n",
    "1. Binomial distribution\n",
    "2. Hypergeometrical distribution\n",
    "3. Standard normal distribution\n",
    "4. Uniform distribution\n",
    "5. None of the above"
   ]
  },
  {
   "cell_type": "code",
   "execution_count": 5,
   "metadata": {},
   "outputs": [
    {
     "data": {
      "image/png": "[encoded data removed]",
      "text/plain": [
       "<Figure size 432x288 with 1 Axes>"
      ]
     },
     "metadata": {
      "needs_background": "light"
     },
     "output_type": "display_data"
    }
   ],
   "source": [
    "import numpy as np\n",
    "from matplotlib import pyplot as plt\n",
    "\n",
    "x=np.linspace(45,95,100)\n",
    "sigma=10\n",
    "u=70\n",
    "y=np.power(2*np.pi*sigma**2,-0.5)*np.exp(-(x-u)**2/(2*sigma**2))\n",
    "plt.scatter(x,y)\n",
    "plt.xlabel('Age (yrs)')\n",
    "plt.ylabel('P')\n",
    "plt.ylim(0,0.05)\n",
    "plt.title('Distrubitoin of age in 100 patients\\n')\n",
    "plt.show()"
   ]
  },
  {
   "cell_type": "code",
   "execution_count": 2,
   "metadata": {},
   "outputs": [],
   "source": [
    "# please enter your answer below:\n"
   ]
  },
  {
   "cell_type": "markdown",
   "metadata": {},
   "source": [
    "**Q5. (10 Marks) Lili went on and investigated the correlation of peptide A to age using linear regression. Her null hypothesis is that peptide A is NOT correlated to age. The `linear regressor` from the `scikit-learn` package reported, that the p-value of peptide A was smaller than 0.05.**\n",
    "1. (5 Marks) What can you say about the result? Can you accept the null hypothesis?\n",
    "2. (5 Marks) What is the potential \"danger\" of the interpretation, when she tested a large number of candidate peptides? (*Hint*: multiple testing)"
   ]
  },
  {
   "cell_type": "code",
   "execution_count": null,
   "metadata": {},
   "outputs": [],
   "source": [
    "# please enter your answer below:\n"
   ]
  },
  {
   "cell_type": "markdown",
   "metadata": {},
   "source": [
    "# III (Q6-Q10) Algorithm\n",
    "* Unless specified, do not use any built-in functions or imported packages\n",
    "* Unless specified, answers without codes will NOT be marked\n",
    "* Please try your best to provide implementable codes; if not, show your pseudocodes \n",
    "* Codes will be evaluated based on efficiency"
   ]
  },
  {
   "cell_type": "markdown",
   "metadata": {},
   "source": [
    "**Q6. (10 Marks) For a given array `arr1`, give a subarray whose element x is smaller than 14 but at least 10 for all x.**"
   ]
  },
  {
   "cell_type": "code",
   "execution_count": null,
   "metadata": {},
   "outputs": [],
   "source": [
    "import numpy as np\n",
    "rng=np.random.RandomState(42)\n",
    "arr1=rng.normal(10,np.pi,100)\n",
    "# please enter your codes below:\n"
   ]
  },
  {
   "cell_type": "markdown",
   "metadata": {},
   "source": [
    "**Q7. (10 Marks) Find the maximum of the given array `arr1`.** "
   ]
  },
  {
   "cell_type": "code",
   "execution_count": null,
   "metadata": {},
   "outputs": [],
   "source": [
    "import numpy as np\n",
    "rng=np.random.RandomState(42)\n",
    "arr1=rng.normal(10,np.pi,100)\n",
    "# please enter your codes below\n",
    "# do not use: np.max or any equivalent"
   ]
  },
  {
   "cell_type": "markdown",
   "metadata": {},
   "source": [
    "**Q8. (10 Marks) Calculate the factorial of 15.** \n",
    "\n",
    "Remarks: $15!=15\\times 14 \\times 13 \\times ... \\times 1$"
   ]
  },
  {
   "cell_type": "code",
   "execution_count": null,
   "metadata": {},
   "outputs": [],
   "source": [
    "# please enter your codes below:"
   ]
  },
  {
   "cell_type": "markdown",
   "metadata": {},
   "source": [
    "**Q9. (10 Marks) A Fibonacci number $F_n$ is defined as the sum of its two preceding terms, that is:\n",
    "$F_n=F_{(n-1)}+F_{(n-2)}$. By definition, the first two Fibonacci numbers are $F_0=0$ and $F_1=1$. The beginning of the Fibonacci series is:**\n",
    "<h5><center>$0,1,2,3,5,8,13,21...$</center></h5>\n",
    "\n",
    "**Give the value of $F_{30}$.**"
   ]
  },
  {
   "cell_type": "code",
   "execution_count": null,
   "metadata": {},
   "outputs": [],
   "source": [
    "# please enter your codes below:"
   ]
  },
  {
   "cell_type": "markdown",
   "metadata": {},
   "source": [
    "**Q10. (10 Marks) On a rectangular $4\\times 3$ grid, an ant wants to walk from the North-west vertex A, to the South-east vertex B (run the below chrunk to see). It can only walk either east or south-ward, with the length of a step equals to 1.** \n",
    "1. (5 Marks) How many possible routes can it take? (*Please give your answer directly, no codes are required*)\n",
    "2. (5 Marks) List all the possible routes it can take. You may give the results in any readable and consistent form you prefer. For example, the route with 5 steps East followed by 3 steps South can be expressed as: \n",
    "    * a string `'EEEESSS'` \n",
    "    * a string `'1111000'`\n",
    "    * an integer $1111000$\n",
    "    * a list `[1,1,1,1,0,0,0]`\n",
    "    * a tuple `('1','1','1','1','0','0','0')`\n",
    "    * ...\n",
    "    "
   ]
  },
  {
   "cell_type": "code",
   "execution_count": 2,
   "metadata": {},
   "outputs": [
    {
     "data": {
      "image/png": "[encoded data removed]",
      "text/plain": [
       "<Figure size 432x288 with 1 Axes>"
      ]
     },
     "metadata": {
      "needs_background": "light"
     },
     "output_type": "display_data"
    }
   ],
   "source": [
    "from matplotlib import pyplot as plt\n",
    "import numpy as np\n",
    "plt.scatter(4,0,s=200)\n",
    "plt.scatter(0,3,s=200)\n",
    "plt.text(0.4,3,'A',fontsize=20,va='center')\n",
    "plt.text(3.6,0,'B',fontsize=20,va='center')\n",
    "plt.xticks(np.arange(5))\n",
    "plt.yticks(np.arange(4))\n",
    "plt.grid()\n",
    "plt.show()"
   ]
  },
  {
   "cell_type": "code",
   "execution_count": null,
   "metadata": {},
   "outputs": [],
   "source": [
    "# please enter your codes below:"
   ]
  }
 ],
 "metadata": {
  "kernelspec": {
   "display_name": "Python 3",
   "language": "python",
   "name": "python3"
  },
  "language_info": {
   "codemirror_mode": {
    "name": "ipython",
    "version": 3
   },
   "file_extension": ".py",
   "mimetype": "text/x-python",
   "name": "python",
   "nbconvert_exporter": "python",
   "pygments_lexer": "ipython3",
   "version": "3.7.0"
  }
 },
 "nbformat": 4,
 "nbformat_minor": 2
}
